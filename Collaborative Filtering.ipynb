{
 "cells": [
  {
   "cell_type": "markdown",
   "metadata": {},
   "source": [
    "#Some User Data,Users have rated some other users and some users have not been rated at all\n",
    "# Similar method can be used for rating the posts or comments as well"
   ]
  },
  {
   "cell_type": "code",
   "execution_count": null,
   "metadata": {
    "collapsed": true
   },
   "outputs": [],
   "source": [
    "users = {\"Harry\":    {\"Jeff\": 4.0, \"Sanjay\": 2.0, \n",
    "                      \"Norah\": 4.0, \"Andrew\": 4.0, \n",
    "                      \"Voldemort\": 0, \"Dumbledor\": 5.0\n",
    "                     }, \n",
    "         \"Jeff\":     {\"Voldemort\": 2.0, \"Andrew\": 4.0, \n",
    "                      \"Sanjay\": 5.0, \"Dumbledor\": 2.0\n",
    "                     }, \n",
    "         \"Sanjay\":   {\"Harry\": 5.0, \"Voldemort\": 1.0, \n",
    "                      \"Norah\": 3.0, \n",
    "                     }, \n",
    "         \"Norah\":    {\"Jeff\": 3.0, \"Sanjay\": 4.0, \n",
    "                       \"Voldemort\": 3.0, \n",
    "                       \"Dumbledor\": 4.0\n",
    "                     }, \n",
    "         \"Andrew\":   {\"Norah\": 4.0, \"Jeff\": 1.0, \n",
    "                      \"Harry\": 4.0, \"The Strokes\": 4.0, \n",
    "                      \"Voldemort\": 1.0\n",
    "                     }, \n",
    "         \"Voldemort\": {\"Harry\": 4.0, \"Norah\": 3.0, \n",
    "                      \"Dumbledor\": 5.0,\n",
    "                      \"Harry\": 4.0\n",
    "                       }, \n",
    "         \"Dumbledor\":  {\"Harry\": 5.0, \"Andrew\": 2.0, \n",
    "                      \"Jeff\": 3.0, \"Norah\": 5.0, \n",
    "                      \"Voldemort\": 4.0, \"Sanjay\": 5.0\n",
    "                       },\n",
    "        }"
   ]
  }
 ],
 "metadata": {
  "kernelspec": {
   "display_name": "Python 2",
   "language": "python",
   "name": "python2"
  },
  "language_info": {
   "codemirror_mode": {
    "name": "ipython",
    "version": 2
   },
   "file_extension": ".py",
   "mimetype": "text/x-python",
   "name": "python",
   "nbconvert_exporter": "python",
   "pygments_lexer": "ipython2",
   "version": "2.7.11"
  }
 },
 "nbformat": 4,
 "nbformat_minor": 0
}
